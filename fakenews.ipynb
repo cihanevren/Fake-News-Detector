{
  "nbformat": 4,
  "nbformat_minor": 0,
  "metadata": {
    "colab": {
      "name": "part2.ipynb",
      "provenance": [],
      "collapsed_sections": [
        "IR997BhmRdTg",
        "up-Z5XKuR51E",
        "1eGz3fEGSPc5",
        "0oxe6UCfSxLl",
        "7wEwAlzzRIOz",
        "MJVLH0bVYZPJ",
        "SQwGavDTdYyq",
        "P5T4B94-Tu_q"
      ]
    },
    "kernelspec": {
      "name": "python3",
      "display_name": "Python 3"
    },
    "language_info": {
      "name": "python"
    },
    "accelerator": "GPU"
  },
  "cells": [
    {
      "cell_type": "markdown",
      "source": [
        "#DOWNLOAD GLOVE EMBEDDING\n",
        "\n",
        "**Runtime: 3 min**"
      ],
      "metadata": {
        "id": "IR997BhmRdTg"
      }
    },
    {
      "cell_type": "code",
      "execution_count": 1,
      "metadata": {
        "id": "TA1RLeELFTi3",
        "colab": {
          "base_uri": "https://localhost:8080/"
        },
        "outputId": "1b1db342-9345-43b4-9023-a4a106316ede"
      },
      "outputs": [
        {
          "output_type": "stream",
          "name": "stdout",
          "text": [
            "Collecting contractions\n",
            "  Downloading contractions-0.1.72-py2.py3-none-any.whl (8.3 kB)\n",
            "Collecting textsearch>=0.0.21\n",
            "  Downloading textsearch-0.0.21-py2.py3-none-any.whl (7.5 kB)\n",
            "Collecting anyascii\n",
            "  Downloading anyascii-0.3.1-py3-none-any.whl (287 kB)\n",
            "\u001b[K     |████████████████████████████████| 287 kB 5.1 MB/s \n",
            "\u001b[?25hCollecting pyahocorasick\n",
            "  Downloading pyahocorasick-1.4.4-cp37-cp37m-manylinux_2_17_x86_64.manylinux2014_x86_64.whl (106 kB)\n",
            "\u001b[K     |████████████████████████████████| 106 kB 46.3 MB/s \n",
            "\u001b[?25hInstalling collected packages: pyahocorasick, anyascii, textsearch, contractions\n",
            "Successfully installed anyascii-0.3.1 contractions-0.1.72 pyahocorasick-1.4.4 textsearch-0.0.21\n"
          ]
        }
      ],
      "source": [
        "#Required for preprocessing the text\n",
        "!pip install contractions\n"
      ]
    },
    {
      "cell_type": "code",
      "source": [
        "#Glove Embedding Pretrained Weights\n",
        "#It takes approximately 2 min to install\n",
        "!wget http://nlp.stanford.edu/data/glove.6B.zip\n",
        "!unzip glove*.zip"
      ],
      "metadata": {
        "id": "jR7MTZXqFczv",
        "colab": {
          "base_uri": "https://localhost:8080/"
        },
        "outputId": "92c77bd6-69a5-4d88-f7fc-c8d073825ee5"
      },
      "execution_count": 2,
      "outputs": [
        {
          "output_type": "stream",
          "name": "stdout",
          "text": [
            "--2022-04-27 14:26:00--  http://nlp.stanford.edu/data/glove.6B.zip\n",
            "Resolving nlp.stanford.edu (nlp.stanford.edu)... 171.64.67.140\n",
            "Connecting to nlp.stanford.edu (nlp.stanford.edu)|171.64.67.140|:80... connected.\n",
            "HTTP request sent, awaiting response... 302 Found\n",
            "Location: https://nlp.stanford.edu/data/glove.6B.zip [following]\n",
            "--2022-04-27 14:26:00--  https://nlp.stanford.edu/data/glove.6B.zip\n",
            "Connecting to nlp.stanford.edu (nlp.stanford.edu)|171.64.67.140|:443... connected.\n",
            "HTTP request sent, awaiting response... 301 Moved Permanently\n",
            "Location: http://downloads.cs.stanford.edu/nlp/data/glove.6B.zip [following]\n",
            "--2022-04-27 14:26:00--  http://downloads.cs.stanford.edu/nlp/data/glove.6B.zip\n",
            "Resolving downloads.cs.stanford.edu (downloads.cs.stanford.edu)... 171.64.64.22\n",
            "Connecting to downloads.cs.stanford.edu (downloads.cs.stanford.edu)|171.64.64.22|:80... connected.\n",
            "HTTP request sent, awaiting response... 200 OK\n",
            "Length: 862182613 (822M) [application/zip]\n",
            "Saving to: ‘glove.6B.zip’\n",
            "\n",
            "glove.6B.zip        100%[===================>] 822.24M  5.20MB/s    in 2m 40s  \n",
            "\n",
            "2022-04-27 14:28:40 (5.15 MB/s) - ‘glove.6B.zip’ saved [862182613/862182613]\n",
            "\n",
            "Archive:  glove.6B.zip\n",
            "  inflating: glove.6B.50d.txt        \n",
            "  inflating: glove.6B.100d.txt       \n",
            "  inflating: glove.6B.200d.txt       \n",
            "  inflating: glove.6B.300d.txt       \n"
          ]
        }
      ]
    },
    {
      "cell_type": "markdown",
      "source": [
        "#IMPORTS"
      ],
      "metadata": {
        "id": "up-Z5XKuR51E"
      }
    },
    {
      "cell_type": "code",
      "source": [
        "#NLTK imports for preprocessing the text\n",
        "import nltk\n",
        "from nltk.stem import WordNetLemmatizer\n",
        "from nltk.tokenize import word_tokenize\n",
        "\n",
        "nltk.download('punkt')\n",
        "nltk.download('stopwords')\n",
        "nltk.download('wordnet')"
      ],
      "metadata": {
        "id": "d2YcgU7cFcw8",
        "colab": {
          "base_uri": "https://localhost:8080/"
        },
        "outputId": "29b66e84-1cb5-4875-f0e7-f236e821af42"
      },
      "execution_count": 3,
      "outputs": [
        {
          "output_type": "stream",
          "name": "stdout",
          "text": [
            "[nltk_data] Downloading package punkt to /root/nltk_data...\n",
            "[nltk_data]   Unzipping tokenizers/punkt.zip.\n",
            "[nltk_data] Downloading package stopwords to /root/nltk_data...\n",
            "[nltk_data]   Unzipping corpora/stopwords.zip.\n",
            "[nltk_data] Downloading package wordnet to /root/nltk_data...\n",
            "[nltk_data]   Unzipping corpora/wordnet.zip.\n"
          ]
        },
        {
          "output_type": "execute_result",
          "data": {
            "text/plain": [
              "True"
            ]
          },
          "metadata": {},
          "execution_count": 3
        }
      ]
    },
    {
      "cell_type": "code",
      "source": [
        "import tensorflow as tf\n",
        "import pandas as pd\n",
        "import numpy as np\n",
        "import re\n",
        "import string\n",
        "import contractions\n",
        "\n",
        "import seaborn as sns\n",
        "import matplotlib.pyplot as plt\n",
        "\n",
        "from tensorflow.keras.preprocessing.text import Tokenizer\n",
        "from tensorflow.keras.preprocessing.sequence import pad_sequences\n",
        "from sklearn.feature_extraction.text import TfidfVectorizer\n",
        "from sklearn.model_selection import train_test_split\n",
        "from sklearn.metrics import accuracy_score, f1_score\n",
        "\n",
        "from xgboost import XGBClassifier\n",
        "\n",
        "import warnings\n",
        "from pandas.core.common import SettingWithCopyWarning\n",
        "warnings.simplefilter(action=\"ignore\", category=SettingWithCopyWarning)"
      ],
      "metadata": {
        "id": "dWNxrH-kFcuI"
      },
      "execution_count": 4,
      "outputs": []
    },
    {
      "cell_type": "markdown",
      "source": [
        "#EXPLORATORY DATA ANALYSIS"
      ],
      "metadata": {
        "id": "1eGz3fEGSPc5"
      }
    },
    {
      "cell_type": "code",
      "source": [
        "#Reading Fake and Real News Data\n",
        "fake_path = '/content/Fake.csv'\n",
        "real_path = '/content/True.csv'\n",
        "\n",
        "fake = pd.read_csv(fake_path)\n",
        "real = pd.read_csv(real_path)\n",
        "\n",
        "#Assign classes 0 For Fake News, 1 For Real News\n",
        "fake['class'], real['class'] = 0, 1"
      ],
      "metadata": {
        "id": "fwRhebidFcrb"
      },
      "execution_count": 5,
      "outputs": []
    },
    {
      "cell_type": "code",
      "source": [
        "#Concatenating dataframes and Resampling the data by 0.3\n",
        "df = pd.concat([fake, real], axis=0)\n",
        "df = df.sample(frac=0.3, random_state=101).reset_index(drop=True)\n",
        "print('Shape of DataFrame')\n",
        "print('------------------')\n",
        "print(f'{df.shape}')\n",
        "df.head(5)"
      ],
      "metadata": {
        "id": "hXCtsJftFcoj",
        "colab": {
          "base_uri": "https://localhost:8080/",
          "height": 258
        },
        "outputId": "59f32f48-aa91-4f11-e1c0-76f45ce40f83"
      },
      "execution_count": 6,
      "outputs": [
        {
          "output_type": "stream",
          "name": "stdout",
          "text": [
            "Shape of DataFrame\n",
            "------------------\n",
            "(13469, 5)\n"
          ]
        },
        {
          "output_type": "execute_result",
          "data": {
            "text/plain": [
              "                                               title  \\\n",
              "0  MICHELLE, SASHA AND MALIA Will Join Barack On ...   \n",
              "1   80-Year-Old Man Guns Down 81-Year-Old Over Ch...   \n",
              "2  Judge tells Trump University litigants they wo...   \n",
              "3  Danish government wins backing for 2018 budget...   \n",
              "4   China And Russia Chase US Destroyer Away Afte...   \n",
              "\n",
              "                                                text       subject  \\\n",
              "0  The Obama s just added millions onto the taxpa...     left-news   \n",
              "1  On June 13, 80-year-old Edward Acquisto shot a...          News   \n",
              "2  SAN DIEGO (Reuters) - The U.S. judge overseein...  politicsNews   \n",
              "3  COPENHAGEN (Reuters) - Denmark s right-wing go...     worldnews   \n",
              "4  Trump s loyalty to Vladimir Putin is being tes...          News   \n",
              "\n",
              "                 date  class  \n",
              "0        Mar 17, 2016      0  \n",
              "1       June 29, 2016      0  \n",
              "2  November 10, 2016       1  \n",
              "3  December 19, 2017       1  \n",
              "4      April 17, 2017      0  "
            ],
            "text/html": [
              "\n",
              "  <div id=\"df-eff03713-d0c5-49ae-89b3-e6c422128bfc\">\n",
              "    <div class=\"colab-df-container\">\n",
              "      <div>\n",
              "<style scoped>\n",
              "    .dataframe tbody tr th:only-of-type {\n",
              "        vertical-align: middle;\n",
              "    }\n",
              "\n",
              "    .dataframe tbody tr th {\n",
              "        vertical-align: top;\n",
              "    }\n",
              "\n",
              "    .dataframe thead th {\n",
              "        text-align: right;\n",
              "    }\n",
              "</style>\n",
              "<table border=\"1\" class=\"dataframe\">\n",
              "  <thead>\n",
              "    <tr style=\"text-align: right;\">\n",
              "      <th></th>\n",
              "      <th>title</th>\n",
              "      <th>text</th>\n",
              "      <th>subject</th>\n",
              "      <th>date</th>\n",
              "      <th>class</th>\n",
              "    </tr>\n",
              "  </thead>\n",
              "  <tbody>\n",
              "    <tr>\n",
              "      <th>0</th>\n",
              "      <td>MICHELLE, SASHA AND MALIA Will Join Barack On ...</td>\n",
              "      <td>The Obama s just added millions onto the taxpa...</td>\n",
              "      <td>left-news</td>\n",
              "      <td>Mar 17, 2016</td>\n",
              "      <td>0</td>\n",
              "    </tr>\n",
              "    <tr>\n",
              "      <th>1</th>\n",
              "      <td>80-Year-Old Man Guns Down 81-Year-Old Over Ch...</td>\n",
              "      <td>On June 13, 80-year-old Edward Acquisto shot a...</td>\n",
              "      <td>News</td>\n",
              "      <td>June 29, 2016</td>\n",
              "      <td>0</td>\n",
              "    </tr>\n",
              "    <tr>\n",
              "      <th>2</th>\n",
              "      <td>Judge tells Trump University litigants they wo...</td>\n",
              "      <td>SAN DIEGO (Reuters) - The U.S. judge overseein...</td>\n",
              "      <td>politicsNews</td>\n",
              "      <td>November 10, 2016</td>\n",
              "      <td>1</td>\n",
              "    </tr>\n",
              "    <tr>\n",
              "      <th>3</th>\n",
              "      <td>Danish government wins backing for 2018 budget...</td>\n",
              "      <td>COPENHAGEN (Reuters) - Denmark s right-wing go...</td>\n",
              "      <td>worldnews</td>\n",
              "      <td>December 19, 2017</td>\n",
              "      <td>1</td>\n",
              "    </tr>\n",
              "    <tr>\n",
              "      <th>4</th>\n",
              "      <td>China And Russia Chase US Destroyer Away Afte...</td>\n",
              "      <td>Trump s loyalty to Vladimir Putin is being tes...</td>\n",
              "      <td>News</td>\n",
              "      <td>April 17, 2017</td>\n",
              "      <td>0</td>\n",
              "    </tr>\n",
              "  </tbody>\n",
              "</table>\n",
              "</div>\n",
              "      <button class=\"colab-df-convert\" onclick=\"convertToInteractive('df-eff03713-d0c5-49ae-89b3-e6c422128bfc')\"\n",
              "              title=\"Convert this dataframe to an interactive table.\"\n",
              "              style=\"display:none;\">\n",
              "        \n",
              "  <svg xmlns=\"http://www.w3.org/2000/svg\" height=\"24px\"viewBox=\"0 0 24 24\"\n",
              "       width=\"24px\">\n",
              "    <path d=\"M0 0h24v24H0V0z\" fill=\"none\"/>\n",
              "    <path d=\"M18.56 5.44l.94 2.06.94-2.06 2.06-.94-2.06-.94-.94-2.06-.94 2.06-2.06.94zm-11 1L8.5 8.5l.94-2.06 2.06-.94-2.06-.94L8.5 2.5l-.94 2.06-2.06.94zm10 10l.94 2.06.94-2.06 2.06-.94-2.06-.94-.94-2.06-.94 2.06-2.06.94z\"/><path d=\"M17.41 7.96l-1.37-1.37c-.4-.4-.92-.59-1.43-.59-.52 0-1.04.2-1.43.59L10.3 9.45l-7.72 7.72c-.78.78-.78 2.05 0 2.83L4 21.41c.39.39.9.59 1.41.59.51 0 1.02-.2 1.41-.59l7.78-7.78 2.81-2.81c.8-.78.8-2.07 0-2.86zM5.41 20L4 18.59l7.72-7.72 1.47 1.35L5.41 20z\"/>\n",
              "  </svg>\n",
              "      </button>\n",
              "      \n",
              "  <style>\n",
              "    .colab-df-container {\n",
              "      display:flex;\n",
              "      flex-wrap:wrap;\n",
              "      gap: 12px;\n",
              "    }\n",
              "\n",
              "    .colab-df-convert {\n",
              "      background-color: #E8F0FE;\n",
              "      border: none;\n",
              "      border-radius: 50%;\n",
              "      cursor: pointer;\n",
              "      display: none;\n",
              "      fill: #1967D2;\n",
              "      height: 32px;\n",
              "      padding: 0 0 0 0;\n",
              "      width: 32px;\n",
              "    }\n",
              "\n",
              "    .colab-df-convert:hover {\n",
              "      background-color: #E2EBFA;\n",
              "      box-shadow: 0px 1px 2px rgba(60, 64, 67, 0.3), 0px 1px 3px 1px rgba(60, 64, 67, 0.15);\n",
              "      fill: #174EA6;\n",
              "    }\n",
              "\n",
              "    [theme=dark] .colab-df-convert {\n",
              "      background-color: #3B4455;\n",
              "      fill: #D2E3FC;\n",
              "    }\n",
              "\n",
              "    [theme=dark] .colab-df-convert:hover {\n",
              "      background-color: #434B5C;\n",
              "      box-shadow: 0px 1px 3px 1px rgba(0, 0, 0, 0.15);\n",
              "      filter: drop-shadow(0px 1px 2px rgba(0, 0, 0, 0.3));\n",
              "      fill: #FFFFFF;\n",
              "    }\n",
              "  </style>\n",
              "\n",
              "      <script>\n",
              "        const buttonEl =\n",
              "          document.querySelector('#df-eff03713-d0c5-49ae-89b3-e6c422128bfc button.colab-df-convert');\n",
              "        buttonEl.style.display =\n",
              "          google.colab.kernel.accessAllowed ? 'block' : 'none';\n",
              "\n",
              "        async function convertToInteractive(key) {\n",
              "          const element = document.querySelector('#df-eff03713-d0c5-49ae-89b3-e6c422128bfc');\n",
              "          const dataTable =\n",
              "            await google.colab.kernel.invokeFunction('convertToInteractive',\n",
              "                                                     [key], {});\n",
              "          if (!dataTable) return;\n",
              "\n",
              "          const docLinkHtml = 'Like what you see? Visit the ' +\n",
              "            '<a target=\"_blank\" href=https://colab.research.google.com/notebooks/data_table.ipynb>data table notebook</a>'\n",
              "            + ' to learn more about interactive tables.';\n",
              "          element.innerHTML = '';\n",
              "          dataTable['output_type'] = 'display_data';\n",
              "          await google.colab.output.renderOutput(dataTable, element);\n",
              "          const docLink = document.createElement('div');\n",
              "          docLink.innerHTML = docLinkHtml;\n",
              "          element.appendChild(docLink);\n",
              "        }\n",
              "      </script>\n",
              "    </div>\n",
              "  </div>\n",
              "  "
            ]
          },
          "metadata": {},
          "execution_count": 6
        }
      ]
    },
    {
      "cell_type": "markdown",
      "source": [
        "**Fake News Count Time Series Analysis**"
      ],
      "metadata": {
        "id": "hwbpGHHqr3Ax"
      }
    },
    {
      "cell_type": "code",
      "source": [
        "#Subselect fake news data to analize fake news count by date\n",
        "df_date = fake[['title','date']]\n",
        "\n",
        "\n",
        "#Parse date column into months\n",
        "df_date['month'] = df_date['date'].apply(lambda x : x.split(\" \")[0])\n",
        "\n",
        "#Replace Month with Numerical Representation\n",
        "to_replace = {\"January\" : \"01\", \"Jan\" : \"01\",\n",
        "              \"February\" : \"02\", \"Feb\" : \"02\",\n",
        "              \"March\" : \"03\", \"Mar\" : \"03\",\n",
        "              \"April\" : \"04\", \"Apr\" : \"04\",\n",
        "              \"May\" : \"05\",\n",
        "              \"June\" : \"06\", \"Jun\" : \"06\",\n",
        "              \"July\" : \"07\", \"Jul\" : \"07\",\n",
        "              \"August\" : \"08\", \"Aug\" : \"08\",\n",
        "              \"September\" : \"09\", \"Sep\" : \"09\",\n",
        "              \"October\" : \"10\", \"Oct\" : \"10\",\n",
        "              \"November\" : \"11\", \"Nov\" : \"11\",\n",
        "              \"December\" : \"12\", \"Dec\" : \"12\"}\n",
        "\n",
        "df_date.month.replace(to_replace, inplace=True)\n",
        "\n",
        "#Drop rows that is not including months\n",
        "months = ['01','02','03','04','05','06','07','08','09','10','11','12']\n",
        "df_date = df_date[df_date.month.isin(months)]\n",
        "\n",
        "#Parse date column into years\n",
        "df_date['year'] = df_date['date'].apply(lambda x : x.split(\" \")[2])\n",
        "\n",
        "#Create date column with month and year only\n",
        "df_date['date'] = df_date['month'] + \"/\" + df_date['year']\n",
        "\n",
        "#Change type of date column to datetime\n",
        "df_date['date'] = pd.to_datetime(df_date['date'], format=\"%m/%Y\")\n",
        "\n",
        "#Sort date column ascending to plot\n",
        "df_date.sort_values('date', inplace=True)\n",
        "\n",
        "#Groupby date column to calculate count of fake news\n",
        "df_date = df_date.groupby(['date']).agg(count=('date','count')).reset_index()"
      ],
      "metadata": {
        "id": "agEj9NSZn3vC"
      },
      "execution_count": 7,
      "outputs": []
    },
    {
      "cell_type": "code",
      "source": [
        "#Plot Count of Fake News Monthly\n",
        "plt.figure(figsize=(12,9))\n",
        "plt.plot(df_date['date'],df_date['count'], 'bo-')\n",
        "plt.xlabel('DATE')\n",
        "plt.ylabel('COUNT OF FAKE NEWS')\n",
        "plt.show()\n",
        "\n",
        "#We can see in the below plot there is a big spike in the count of fake news in January 2016\n",
        "#If we look in the internet what's happening around that time there was a presidential election (Trump/Clinton) in 2016 which concluded in November 2016\n",
        "#Probably there was a severe manipulation by the media for both parties to win the election\n",
        "#https://en.wikipedia.org/wiki/2016_United_States_presidential_election"
      ],
      "metadata": {
        "colab": {
          "base_uri": "https://localhost:8080/",
          "height": 551
        },
        "id": "r9TFtce1rOCb",
        "outputId": "88b790ea-6a90-406a-9408-a6b086908d9c"
      },
      "execution_count": 8,
      "outputs": [
        {
          "output_type": "display_data",
          "data": {
            "text/plain": [
              "<Figure size 864x648 with 1 Axes>"
            ],
            "image/png": "[encoded data removed]"
          },
          "metadata": {
            "needs_background": "light"
          }
        }
      ]
    },
    {
      "cell_type": "code",
      "source": [
        "#Plotting counts of fake and real news\n",
        "plt.figure(figsize=(12,9))\n",
        "sns.set_style('whitegrid')\n",
        "plot = sns.countplot(data=df , x='class')\n",
        "plot.set(xlabel='CLASS', ylabel='COUNT')\n",
        "plt.show()"
      ],
      "metadata": {
        "id": "cU3hSE0eFcmA",
        "colab": {
          "base_uri": "https://localhost:8080/",
          "height": 551
        },
        "outputId": "a943230d-6325-4e07-a7f0-efd05696f395"
      },
      "execution_count": 9,
      "outputs": [
        {
          "output_type": "display_data",
          "data": {
            "text/plain": [
              "<Figure size 864x648 with 1 Axes>"
            ],
            "image/png": "[encoded data removed]"
          },
          "metadata": {
            "needs_background": "light"
          }
        }
      ]
    },
    {
      "cell_type": "code",
      "source": [
        "#Check the dtypes and null values\n",
        "df.info()"
      ],
      "metadata": {
        "id": "PONwoaBmFcjc",
        "colab": {
          "base_uri": "https://localhost:8080/"
        },
        "outputId": "2e7e838d-9eb4-4e5e-cb78-7a6c17dd3790"
      },
      "execution_count": 10,
      "outputs": [
        {
          "output_type": "stream",
          "name": "stdout",
          "text": [
            "<class 'pandas.core.frame.DataFrame'>\n",
            "RangeIndex: 13469 entries, 0 to 13468\n",
            "Data columns (total 5 columns):\n",
            " #   Column   Non-Null Count  Dtype \n",
            "---  ------   --------------  ----- \n",
            " 0   title    13469 non-null  object\n",
            " 1   text     13469 non-null  object\n",
            " 2   subject  13469 non-null  object\n",
            " 3   date     13469 non-null  object\n",
            " 4   class    13469 non-null  int64 \n",
            "dtypes: int64(1), object(4)\n",
            "memory usage: 526.3+ KB\n"
          ]
        }
      ]
    },
    {
      "cell_type": "code",
      "source": [
        "#Print count of null values if there is any\n",
        "df.isnull().sum()"
      ],
      "metadata": {
        "id": "OZTzoG0xFcgE",
        "colab": {
          "base_uri": "https://localhost:8080/"
        },
        "outputId": "b174a4b3-4db4-4062-fa19-56896772113f"
      },
      "execution_count": 11,
      "outputs": [
        {
          "output_type": "execute_result",
          "data": {
            "text/plain": [
              "title      0\n",
              "text       0\n",
              "subject    0\n",
              "date       0\n",
              "class      0\n",
              "dtype: int64"
            ]
          },
          "metadata": {},
          "execution_count": 11
        }
      ]
    },
    {
      "cell_type": "code",
      "source": [
        "#Rename the subject categories\n",
        "#Here politicsNews and politics should be in one category\n",
        "\n",
        "to_replace = {'politicsNews': 'political news',\n",
        "              'politics' : 'political news',\n",
        "              'worldnews' : 'world news',\n",
        "              'News' : 'general news',\n",
        "              'left-news' : 'left news',\n",
        "              'Government News' : 'government news',\n",
        "              'US_News' : 'US news',\n",
        "              'Middle-east' : 'Middle-East news'}\n",
        "\n",
        "df.subject.replace(to_replace, inplace=True) "
      ],
      "metadata": {
        "id": "Iffk4O2jFcYg"
      },
      "execution_count": 12,
      "outputs": []
    },
    {
      "cell_type": "code",
      "source": [
        "#Count of each news category\n",
        "df.subject.value_counts()"
      ],
      "metadata": {
        "id": "KMMjE5F4FcPa",
        "colab": {
          "base_uri": "https://localhost:8080/"
        },
        "outputId": "2343d1dc-2aba-4ef7-9aec-ab192853d4b1"
      },
      "execution_count": 13,
      "outputs": [
        {
          "output_type": "execute_result",
          "data": {
            "text/plain": [
              "political news      5453\n",
              "world news          2977\n",
              "general news        2754\n",
              "left news           1357\n",
              "government news      470\n",
              "US news              235\n",
              "Middle-East news     223\n",
              "Name: subject, dtype: int64"
            ]
          },
          "metadata": {},
          "execution_count": 13
        }
      ]
    },
    {
      "cell_type": "markdown",
      "source": [
        "**Countplot News Category by Fake/Real News**"
      ],
      "metadata": {
        "id": "WyepaUnxvGSt"
      }
    },
    {
      "cell_type": "code",
      "source": [
        "#Plot each category by class to see the relevance\n",
        "plt.figure(figsize=(12,9))\n",
        "plot = sns.countplot(data=df, x='subject', hue='class')\n",
        "plot.set(xlabel='NEWS CATEGORY', ylabel='COUNT')\n",
        "plt.legend(title='CLASS', fontsize=10, title_fontsize=15, loc='upper left', labels=['Fake', 'Real'])\n",
        "plot.set_xticklabels(plot.get_xticklabels(), rotation=45)\n",
        "plt.show()\n",
        "\n",
        "#As we can see in the below box plot, most of the fake news are political news.\n",
        "#This could be a result of \"smear campaign\" by the politicians against to each other. "
      ],
      "metadata": {
        "id": "ySy5X4LbG3Hi",
        "colab": {
          "base_uri": "https://localhost:8080/",
          "height": 612
        },
        "outputId": "4b23aeed-e3e9-4e0b-b596-45da84ce139e"
      },
      "execution_count": 14,
      "outputs": [
        {
          "output_type": "display_data",
          "data": {
            "text/plain": [
              "<Figure size 864x648 with 1 Axes>"
            ],
            "image/png": "[encoded data removed]"
          },
          "metadata": {}
        }
      ]
    },
    {
      "cell_type": "markdown",
      "source": [
        "#PREPROCESSING TEXT \n",
        "**Runtime: 1 min**"
      ],
      "metadata": {
        "id": "0oxe6UCfSxLl"
      }
    },
    {
      "cell_type": "code",
      "source": [
        "#Combine text with the title column and drop the other columns\n",
        "\n",
        "df['text'] = df['title'] + ' ' + df['text']\n",
        "cols_todrop = ['title', 'subject', 'date']\n",
        "df.drop(columns=cols_todrop, axis=1, inplace=True)"
      ],
      "metadata": {
        "id": "6KficlYtG3E1"
      },
      "execution_count": 15,
      "outputs": []
    },
    {
      "cell_type": "code",
      "source": [
        "#Dropping Duplicated Rows\n",
        "\n",
        "number_of_duplicates = df.duplicated().sum()\n",
        "print(f'Expected number of rows after dropping duplicates {len(df)-df.duplicated().sum()}\\n')\n",
        "df.drop_duplicates(subset=['text'], keep='first', inplace=True)\n",
        "print(f'Number of rows after dropping duplicates : {df.shape[0]}')"
      ],
      "metadata": {
        "id": "wCaorZjmG3CE",
        "colab": {
          "base_uri": "https://localhost:8080/"
        },
        "outputId": "e032da0f-313c-4309-ede6-69cdc0939b38"
      },
      "execution_count": 16,
      "outputs": [
        {
          "output_type": "stream",
          "name": "stdout",
          "text": [
            "Expected number of rows after dropping duplicates 12924\n",
            "\n",
            "Number of rows after dropping duplicates : 12924\n"
          ]
        }
      ]
    },
    {
      "cell_type": "code",
      "source": [
        "#Defining punctuations and adding extra punctuations that's not included in the string lib\n",
        "\n",
        "punctuations = string.punctuation\n",
        "punctuations = punctuations + '…“”’‘–’'"
      ],
      "metadata": {
        "id": "x85Z1w-TG2-7"
      },
      "execution_count": 17,
      "outputs": []
    },
    {
      "cell_type": "code",
      "source": [
        "#Define Preprocessing Functions\n",
        "\n",
        "def remove_url(text):\n",
        "  \"\"\"\n",
        "  removes urls from text\n",
        "  \"\"\"\n",
        "  removed = re.sub(r\"http\\S+\", \"\", text)\n",
        "  return removed\n",
        "\n",
        "\n",
        "def remove_punctuations(text):\n",
        "  \"\"\"\n",
        "  removes punctuations from text\n",
        "  \"\"\"\n",
        "  removed = \"\".join([i for i in text if i not in punctuations])\n",
        "  return removed\n",
        "\n",
        "def replace_contractions(text):\n",
        "  \"\"\"\n",
        "  replaces contractions\n",
        "  example : \n",
        "  you're ----> you are\n",
        "  it's   ----> it is\n",
        "  ima    ----> i am going to\n",
        "  \"\"\"\n",
        "  replaced = contractions.fix(text)\n",
        "  return replaced\n",
        "\n",
        "def tokenize_words(text):\n",
        "  \"\"\"\n",
        "  turns text string to list of words\n",
        "  \"\"\"\n",
        "  tokenized = word_tokenize(text)\n",
        "  return tokenized\n",
        "\n",
        "def remove_stopwords(text):\n",
        "  \"\"\"\n",
        "  removes stopwords and lowers all words\n",
        "  stopwords : me, myself, I, we, which, who, whom, etc.\n",
        "  \"\"\"\n",
        "  stopwords = nltk.corpus.stopwords.words('english')\n",
        "  removed = [i.lower() for i in text if i not in stopwords]\n",
        "  return removed\n",
        "\n",
        "def lemmatize_words(text):\n",
        "  \"\"\"\n",
        "  lemmatize words\n",
        "  example :\n",
        "  computers ----> computer\n",
        "  changing  ----> change\n",
        "\n",
        "  \"\"\"\n",
        "  lemmatizer = WordNetLemmatizer()\n",
        "  lemmatized = [lemmatizer.lemmatize(i) for i in text]\n",
        "  return lemmatized\n",
        "\n",
        "def preprocess_text(text):\n",
        "  \"\"\"\n",
        "  helper function to preprocess text\n",
        "  applies all the functions defined above\n",
        "  \"\"\"\n",
        "  text = remove_url(text)\n",
        "  text = remove_punctuations(text)\n",
        "  text = replace_contractions(text)\n",
        "  text = tokenize_words(text)\n",
        "  text = remove_stopwords(text)\n",
        "  text = lemmatize_words(text)\n",
        "\n",
        "  return text\n",
        "  #add callback"
      ],
      "metadata": {
        "id": "E96ODh-bHubu"
      },
      "execution_count": 18,
      "outputs": []
    },
    {
      "cell_type": "code",
      "source": [
        "#Apply preprocessing to the test\n",
        "#df['processed_text'] = df['text'].apply(preprocess_text) # 59seconds\n",
        "%%time\n",
        "df.insert(0, 'processed_text', df['text'].apply(preprocess_text) ) #54seconds"
      ],
      "metadata": {
        "id": "RIUD7zu9HuY8",
        "colab": {
          "base_uri": "https://localhost:8080/"
        },
        "outputId": "fdcd2cc3-e09f-4550-c761-d86610b8c406"
      },
      "execution_count": 19,
      "outputs": [
        {
          "output_type": "stream",
          "name": "stdout",
          "text": [
            "CPU times: user 1min, sys: 1.08 s, total: 1min 1s\n",
            "Wall time: 1min 7s\n"
          ]
        }
      ]
    },
    {
      "cell_type": "code",
      "source": [
        "df.head()"
      ],
      "metadata": {
        "colab": {
          "base_uri": "https://localhost:8080/",
          "height": 206
        },
        "id": "Y9eVFN8Pjgat",
        "outputId": "3564a688-72c2-4555-c728-a6c40de6580d"
      },
      "execution_count": 20,
      "outputs": [
        {
          "output_type": "execute_result",
          "data": {
            "text/plain": [
              "                                      processed_text  \\\n",
              "0  [michelle, sasha, and, malia, will, join, bara...   \n",
              "1  [80yearold, man, gun, down, 81yearold, over, c...   \n",
              "2  [judge, tell, trump, university, litigant, wou...   \n",
              "3  [danish, government, win, backing, 2018, budge...   \n",
              "4  [china, and, russia, chase, u, destroyer, away...   \n",
              "\n",
              "                                                text  class  \n",
              "0  MICHELLE, SASHA AND MALIA Will Join Barack On ...      0  \n",
              "1   80-Year-Old Man Guns Down 81-Year-Old Over Ch...      0  \n",
              "2  Judge tells Trump University litigants they wo...      1  \n",
              "3  Danish government wins backing for 2018 budget...      1  \n",
              "4   China And Russia Chase US Destroyer Away Afte...      0  "
            ],
            "text/html": [
              "\n",
              "  <div id=\"df-ea908044-88bd-4b71-b8b5-55903cb94778\">\n",
              "    <div class=\"colab-df-container\">\n",
              "      <div>\n",
              "<style scoped>\n",
              "    .dataframe tbody tr th:only-of-type {\n",
              "        vertical-align: middle;\n",
              "    }\n",
              "\n",
              "    .dataframe tbody tr th {\n",
              "        vertical-align: top;\n",
              "    }\n",
              "\n",
              "    .dataframe thead th {\n",
              "        text-align: right;\n",
              "    }\n",
              "</style>\n",
              "<table border=\"1\" class=\"dataframe\">\n",
              "  <thead>\n",
              "    <tr style=\"text-align: right;\">\n",
              "      <th></th>\n",
              "      <th>processed_text</th>\n",
              "      <th>text</th>\n",
              "      <th>class</th>\n",
              "    </tr>\n",
              "  </thead>\n",
              "  <tbody>\n",
              "    <tr>\n",
              "      <th>0</th>\n",
              "      <td>[michelle, sasha, and, malia, will, join, bara...</td>\n",
              "      <td>MICHELLE, SASHA AND MALIA Will Join Barack On ...</td>\n",
              "      <td>0</td>\n",
              "    </tr>\n",
              "    <tr>\n",
              "      <th>1</th>\n",
              "      <td>[80yearold, man, gun, down, 81yearold, over, c...</td>\n",
              "      <td>80-Year-Old Man Guns Down 81-Year-Old Over Ch...</td>\n",
              "      <td>0</td>\n",
              "    </tr>\n",
              "    <tr>\n",
              "      <th>2</th>\n",
              "      <td>[judge, tell, trump, university, litigant, wou...</td>\n",
              "      <td>Judge tells Trump University litigants they wo...</td>\n",
              "      <td>1</td>\n",
              "    </tr>\n",
              "    <tr>\n",
              "      <th>3</th>\n",
              "      <td>[danish, government, win, backing, 2018, budge...</td>\n",
              "      <td>Danish government wins backing for 2018 budget...</td>\n",
              "      <td>1</td>\n",
              "    </tr>\n",
              "    <tr>\n",
              "      <th>4</th>\n",
              "      <td>[china, and, russia, chase, u, destroyer, away...</td>\n",
              "      <td>China And Russia Chase US Destroyer Away Afte...</td>\n",
              "      <td>0</td>\n",
              "    </tr>\n",
              "  </tbody>\n",
              "</table>\n",
              "</div>\n",
              "      <button class=\"colab-df-convert\" onclick=\"convertToInteractive('df-ea908044-88bd-4b71-b8b5-55903cb94778')\"\n",
              "              title=\"Convert this dataframe to an interactive table.\"\n",
              "              style=\"display:none;\">\n",
              "        \n",
              "  <svg xmlns=\"http://www.w3.org/2000/svg\" height=\"24px\"viewBox=\"0 0 24 24\"\n",
              "       width=\"24px\">\n",
              "    <path d=\"M0 0h24v24H0V0z\" fill=\"none\"/>\n",
              "    <path d=\"M18.56 5.44l.94 2.06.94-2.06 2.06-.94-2.06-.94-.94-2.06-.94 2.06-2.06.94zm-11 1L8.5 8.5l.94-2.06 2.06-.94-2.06-.94L8.5 2.5l-.94 2.06-2.06.94zm10 10l.94 2.06.94-2.06 2.06-.94-2.06-.94-.94-2.06-.94 2.06-2.06.94z\"/><path d=\"M17.41 7.96l-1.37-1.37c-.4-.4-.92-.59-1.43-.59-.52 0-1.04.2-1.43.59L10.3 9.45l-7.72 7.72c-.78.78-.78 2.05 0 2.83L4 21.41c.39.39.9.59 1.41.59.51 0 1.02-.2 1.41-.59l7.78-7.78 2.81-2.81c.8-.78.8-2.07 0-2.86zM5.41 20L4 18.59l7.72-7.72 1.47 1.35L5.41 20z\"/>\n",
              "  </svg>\n",
              "      </button>\n",
              "      \n",
              "  <style>\n",
              "    .colab-df-container {\n",
              "      display:flex;\n",
              "      flex-wrap:wrap;\n",
              "      gap: 12px;\n",
              "    }\n",
              "\n",
              "    .colab-df-convert {\n",
              "      background-color: #E8F0FE;\n",
              "      border: none;\n",
              "      border-radius: 50%;\n",
              "      cursor: pointer;\n",
              "      display: none;\n",
              "      fill: #1967D2;\n",
              "      height: 32px;\n",
              "      padding: 0 0 0 0;\n",
              "      width: 32px;\n",
              "    }\n",
              "\n",
              "    .colab-df-convert:hover {\n",
              "      background-color: #E2EBFA;\n",
              "      box-shadow: 0px 1px 2px rgba(60, 64, 67, 0.3), 0px 1px 3px 1px rgba(60, 64, 67, 0.15);\n",
              "      fill: #174EA6;\n",
              "    }\n",
              "\n",
              "    [theme=dark] .colab-df-convert {\n",
              "      background-color: #3B4455;\n",
              "      fill: #D2E3FC;\n",
              "    }\n",
              "\n",
              "    [theme=dark] .colab-df-convert:hover {\n",
              "      background-color: #434B5C;\n",
              "      box-shadow: 0px 1px 3px 1px rgba(0, 0, 0, 0.15);\n",
              "      filter: drop-shadow(0px 1px 2px rgba(0, 0, 0, 0.3));\n",
              "      fill: #FFFFFF;\n",
              "    }\n",
              "  </style>\n",
              "\n",
              "      <script>\n",
              "        const buttonEl =\n",
              "          document.querySelector('#df-ea908044-88bd-4b71-b8b5-55903cb94778 button.colab-df-convert');\n",
              "        buttonEl.style.display =\n",
              "          google.colab.kernel.accessAllowed ? 'block' : 'none';\n",
              "\n",
              "        async function convertToInteractive(key) {\n",
              "          const element = document.querySelector('#df-ea908044-88bd-4b71-b8b5-55903cb94778');\n",
              "          const dataTable =\n",
              "            await google.colab.kernel.invokeFunction('convertToInteractive',\n",
              "                                                     [key], {});\n",
              "          if (!dataTable) return;\n",
              "\n",
              "          const docLinkHtml = 'Like what you see? Visit the ' +\n",
              "            '<a target=\"_blank\" href=https://colab.research.google.com/notebooks/data_table.ipynb>data table notebook</a>'\n",
              "            + ' to learn more about interactive tables.';\n",
              "          element.innerHTML = '';\n",
              "          dataTable['output_type'] = 'display_data';\n",
              "          await google.colab.output.renderOutput(dataTable, element);\n",
              "          const docLink = document.createElement('div');\n",
              "          docLink.innerHTML = docLinkHtml;\n",
              "          element.appendChild(docLink);\n",
              "        }\n",
              "      </script>\n",
              "    </div>\n",
              "  </div>\n",
              "  "
            ]
          },
          "metadata": {},
          "execution_count": 20
        }
      ]
    },
    {
      "cell_type": "code",
      "source": [
        "#Delete text column\n",
        "del df['text']"
      ],
      "metadata": {
        "id": "hl1wc9TqG9FB"
      },
      "execution_count": 21,
      "outputs": []
    },
    {
      "cell_type": "code",
      "source": [
        "#Create length column to show count of words\n",
        "df['length'] = df['processed_text'].apply(lambda x: len(x))"
      ],
      "metadata": {
        "id": "L2rfvpJbHuWY"
      },
      "execution_count": 22,
      "outputs": []
    },
    {
      "cell_type": "code",
      "source": [
        "#Lets check the top5 longest news\n",
        "df.sort_values('length', ascending=False).head(5)"
      ],
      "metadata": {
        "id": "fz6D-k-OG28Z",
        "colab": {
          "base_uri": "https://localhost:8080/",
          "height": 206
        },
        "outputId": "15a5a52a-c53d-46fc-aabe-495c682ab32c"
      },
      "execution_count": 23,
      "outputs": [
        {
          "output_type": "execute_result",
          "data": {
            "text/plain": [
              "                                         processed_text  class  length\n",
              "6186  [antiamerican, george, soros, lock, arm, with,...      0    4773\n",
              "7414  [year, in, review, 2017, top, ten, conspiracy,...      0    3634\n",
              "8913  [an, american, tragedy, who, really, killed, j...      0    3292\n",
              "6812  [orlando, known, wolf, watched, fbi, worked, d...      0    3164\n",
              "5662  [obama, commute, 61, prisoner, sentencesheres,...      0    2650"
            ],
            "text/html": [
              "\n",
              "  <div id=\"df-e9c88134-0087-42a3-b812-4fef1999a2b9\">\n",
              "    <div class=\"colab-df-container\">\n",
              "      <div>\n",
              "<style scoped>\n",
              "    .dataframe tbody tr th:only-of-type {\n",
              "        vertical-align: middle;\n",
              "    }\n",
              "\n",
              "    .dataframe tbody tr th {\n",
              "        vertical-align: top;\n",
              "    }\n",
              "\n",
              "    .dataframe thead th {\n",
              "        text-align: right;\n",
              "    }\n",
              "</style>\n",
              "<table border=\"1\" class=\"dataframe\">\n",
              "  <thead>\n",
              "    <tr style=\"text-align: right;\">\n",
              "      <th></th>\n",
              "      <th>processed_text</th>\n",
              "      <th>class</th>\n",
              "      <th>length</th>\n",
              "    </tr>\n",
              "  </thead>\n",
              "  <tbody>\n",
              "    <tr>\n",
              "      <th>6186</th>\n",
              "      <td>[antiamerican, george, soros, lock, arm, with,...</td>\n",
              "      <td>0</td>\n",
              "      <td>4773</td>\n",
              "    </tr>\n",
              "    <tr>\n",
              "      <th>7414</th>\n",
              "      <td>[year, in, review, 2017, top, ten, conspiracy,...</td>\n",
              "      <td>0</td>\n",
              "      <td>3634</td>\n",
              "    </tr>\n",
              "    <tr>\n",
              "      <th>8913</th>\n",
              "      <td>[an, american, tragedy, who, really, killed, j...</td>\n",
              "      <td>0</td>\n",
              "      <td>3292</td>\n",
              "    </tr>\n",
              "    <tr>\n",
              "      <th>6812</th>\n",
              "      <td>[orlando, known, wolf, watched, fbi, worked, d...</td>\n",
              "      <td>0</td>\n",
              "      <td>3164</td>\n",
              "    </tr>\n",
              "    <tr>\n",
              "      <th>5662</th>\n",
              "      <td>[obama, commute, 61, prisoner, sentencesheres,...</td>\n",
              "      <td>0</td>\n",
              "      <td>2650</td>\n",
              "    </tr>\n",
              "  </tbody>\n",
              "</table>\n",
              "</div>\n",
              "      <button class=\"colab-df-convert\" onclick=\"convertToInteractive('df-e9c88134-0087-42a3-b812-4fef1999a2b9')\"\n",
              "              title=\"Convert this dataframe to an interactive table.\"\n",
              "              style=\"display:none;\">\n",
              "        \n",
              "  <svg xmlns=\"http://www.w3.org/2000/svg\" height=\"24px\"viewBox=\"0 0 24 24\"\n",
              "       width=\"24px\">\n",
              "    <path d=\"M0 0h24v24H0V0z\" fill=\"none\"/>\n",
              "    <path d=\"M18.56 5.44l.94 2.06.94-2.06 2.06-.94-2.06-.94-.94-2.06-.94 2.06-2.06.94zm-11 1L8.5 8.5l.94-2.06 2.06-.94-2.06-.94L8.5 2.5l-.94 2.06-2.06.94zm10 10l.94 2.06.94-2.06 2.06-.94-2.06-.94-.94-2.06-.94 2.06-2.06.94z\"/><path d=\"M17.41 7.96l-1.37-1.37c-.4-.4-.92-.59-1.43-.59-.52 0-1.04.2-1.43.59L10.3 9.45l-7.72 7.72c-.78.78-.78 2.05 0 2.83L4 21.41c.39.39.9.59 1.41.59.51 0 1.02-.2 1.41-.59l7.78-7.78 2.81-2.81c.8-.78.8-2.07 0-2.86zM5.41 20L4 18.59l7.72-7.72 1.47 1.35L5.41 20z\"/>\n",
              "  </svg>\n",
              "      </button>\n",
              "      \n",
              "  <style>\n",
              "    .colab-df-container {\n",
              "      display:flex;\n",
              "      flex-wrap:wrap;\n",
              "      gap: 12px;\n",
              "    }\n",
              "\n",
              "    .colab-df-convert {\n",
              "      background-color: #E8F0FE;\n",
              "      border: none;\n",
              "      border-radius: 50%;\n",
              "      cursor: pointer;\n",
              "      display: none;\n",
              "      fill: #1967D2;\n",
              "      height: 32px;\n",
              "      padding: 0 0 0 0;\n",
              "      width: 32px;\n",
              "    }\n",
              "\n",
              "    .colab-df-convert:hover {\n",
              "      background-color: #E2EBFA;\n",
              "      box-shadow: 0px 1px 2px rgba(60, 64, 67, 0.3), 0px 1px 3px 1px rgba(60, 64, 67, 0.15);\n",
              "      fill: #174EA6;\n",
              "    }\n",
              "\n",
              "    [theme=dark] .colab-df-convert {\n",
              "      background-color: #3B4455;\n",
              "      fill: #D2E3FC;\n",
              "    }\n",
              "\n",
              "    [theme=dark] .colab-df-convert:hover {\n",
              "      background-color: #434B5C;\n",
              "      box-shadow: 0px 1px 3px 1px rgba(0, 0, 0, 0.15);\n",
              "      filter: drop-shadow(0px 1px 2px rgba(0, 0, 0, 0.3));\n",
              "      fill: #FFFFFF;\n",
              "    }\n",
              "  </style>\n",
              "\n",
              "      <script>\n",
              "        const buttonEl =\n",
              "          document.querySelector('#df-e9c88134-0087-42a3-b812-4fef1999a2b9 button.colab-df-convert');\n",
              "        buttonEl.style.display =\n",
              "          google.colab.kernel.accessAllowed ? 'block' : 'none';\n",
              "\n",
              "        async function convertToInteractive(key) {\n",
              "          const element = document.querySelector('#df-e9c88134-0087-42a3-b812-4fef1999a2b9');\n",
              "          const dataTable =\n",
              "            await google.colab.kernel.invokeFunction('convertToInteractive',\n",
              "                                                     [key], {});\n",
              "          if (!dataTable) return;\n",
              "\n",
              "          const docLinkHtml = 'Like what you see? Visit the ' +\n",
              "            '<a target=\"_blank\" href=https://colab.research.google.com/notebooks/data_table.ipynb>data table notebook</a>'\n",
              "            + ' to learn more about interactive tables.';\n",
              "          element.innerHTML = '';\n",
              "          dataTable['output_type'] = 'display_data';\n",
              "          await google.colab.output.renderOutput(dataTable, element);\n",
              "          const docLink = document.createElement('div');\n",
              "          docLink.innerHTML = docLinkHtml;\n",
              "          element.appendChild(docLink);\n",
              "        }\n",
              "      </script>\n",
              "    </div>\n",
              "  </div>\n",
              "  "
            ]
          },
          "metadata": {},
          "execution_count": 23
        }
      ]
    },
    {
      "cell_type": "code",
      "source": [
        "#Boxplot for count of words\n",
        "plt.figure(figsize=(15,9))\n",
        "sns.boxplot(x=\"class\", y=\"length\", data=df)\n",
        "plt.show()"
      ],
      "metadata": {
        "id": "N417dx3-G25g",
        "colab": {
          "base_uri": "https://localhost:8080/",
          "height": 554
        },
        "outputId": "e09ea4b8-a4b7-45a3-b377-ec10c8aa7144"
      },
      "execution_count": 24,
      "outputs": [
        {
          "output_type": "display_data",
          "data": {
            "text/plain": [
              "<Figure size 1080x648 with 1 Axes>"
            ],
            "image/png": "[encoded data removed]"
          },
          "metadata": {}
        }
      ]
    },
    {
      "cell_type": "code",
      "source": [
        "#If we pick length smaller than 1000 we will be still able to have more than 99% of the data\n",
        "#So we don't need to have a huge matrix when we tokenize the text we will pick the maxlen=1000\n",
        "countsmaller1000 = df[df.length <= 1000]['length'].count()\n",
        "countall = df.length.count()\n",
        "print(f\"If we select only df.length.count() < 1000; We still have {countsmaller1000/countall*100:.4f} % of the data\")"
      ],
      "metadata": {
        "colab": {
          "base_uri": "https://localhost:8080/"
        },
        "id": "EFkXgbCtNOtG",
        "outputId": "50019c6f-28aa-4b3b-8e78-87a866815b38"
      },
      "execution_count": 25,
      "outputs": [
        {
          "output_type": "stream",
          "name": "stdout",
          "text": [
            "If we select only df.length.count() < 1000; We still have 99.3965 % of the data\n"
          ]
        }
      ]
    },
    {
      "cell_type": "code",
      "source": [
        "mean_realnews = np.mean(df[df['class']==1]['length'])\n",
        "mean_fakenews = np.mean(df[df['class']==0]['length'])\n",
        "\n",
        "print(f\"Average count of words for Real News : {mean_realnews:.4f}\")\n",
        "print()\n",
        "print(f\"Average count of words for Fake News : {mean_fakenews:.4f}\")\n",
        "print()\n",
        "print(\"This shows in average Fake news tend to have more words than Real news\")"
      ],
      "metadata": {
        "colab": {
          "base_uri": "https://localhost:8080/"
        },
        "id": "jQUwVbfgOTHe",
        "outputId": "900ad406-d690-47fd-e989-1ad54da36dcc"
      },
      "execution_count": 26,
      "outputs": [
        {
          "output_type": "stream",
          "name": "stdout",
          "text": [
            "Average count of words for Real News : 246.9083\n",
            "\n",
            "Average count of words for Fake News : 260.2050\n",
            "\n",
            "This shows in average Fake news tend to have more words than Real news\n"
          ]
        }
      ]
    },
    {
      "cell_type": "markdown",
      "source": [
        "#MODEL 1: LSTM WITH PRETRAINED GLOVE EMBEDDING\n",
        "**Runtime: 3 min**\n",
        "\n"
      ],
      "metadata": {
        "id": "7wEwAlzzRIOz"
      }
    },
    {
      "cell_type": "code",
      "source": [
        "#Split Train and Test test\n",
        "#0.3 Test and 0.7 Train\n",
        "\n",
        "x_train, x_test, y_train, y_test = train_test_split(df['processed_text'], df['class'], test_size=0.3, random_state=101)\n",
        "\n",
        "print(f\"Number of x_train : {len(x_train)}\\n\\nNumber of x_test : {len(x_test)}\")"
      ],
      "metadata": {
        "colab": {
          "base_uri": "https://localhost:8080/"
        },
        "id": "DWqqOAzjOTEq",
        "outputId": "921e3bd9-95a3-434e-b593-5d54ac15b64f"
      },
      "execution_count": 27,
      "outputs": [
        {
          "output_type": "stream",
          "name": "stdout",
          "text": [
            "Number of x_train : 9046\n",
            "\n",
            "Number of x_test : 3878\n"
          ]
        }
      ]
    },
    {
      "cell_type": "code",
      "source": [
        "#Instantiate Tokenizer\n",
        "tokenizer = Tokenizer()\n",
        "tokenizer.fit_on_texts(x_train)\n",
        "\n",
        "#pad sequences with maxlen=1000\n",
        "#previously we saw that 99% of the data has less than 1000 words\n",
        "\n",
        "maxlen = 1000\n",
        "#create sequences in x_train and pad them with maxlen=1000\n",
        "tokenized_train = tokenizer.texts_to_sequences(x_train)\n",
        "x_train = pad_sequences(tokenized_train, maxlen=maxlen)\n",
        "\n",
        "#create sequences in x_test and pad them with maxlen=1000\n",
        "tokenized_test = tokenizer.texts_to_sequences(x_test)\n",
        "x_test = pad_sequences(tokenized_test, maxlen=maxlen)\n",
        "\n",
        "print(f\"Train Set Shape : {x_train.shape}\")\n",
        "print(\"----------------------------------\")\n",
        "print(f\"Test Set Shape : {x_test.shape}\")"
      ],
      "metadata": {
        "colab": {
          "base_uri": "https://localhost:8080/"
        },
        "id": "cpBaLuBKOTCG",
        "outputId": "15f63425-fb26-4e0d-ec47-d719c8a24543"
      },
      "execution_count": 28,
      "outputs": [
        {
          "output_type": "stream",
          "name": "stdout",
          "text": [
            "Train Set Shape : (9046, 1000)\n",
            "----------------------------------\n",
            "Test Set Shape : (3878, 1000)\n"
          ]
        }
      ]
    },
    {
      "cell_type": "code",
      "source": [
        "#Creating embedding function for assigning glove embedding vectors to tokens\n",
        "#Source deep learning with python by francois challot 2nd edition\n",
        "\n",
        "def embedding_function(filepath, word_index, embedding_dim):\n",
        "  vocab_size = len(word_index) + 1\n",
        "  embedding_matrix = np.zeros((vocab_size, embedding_dim))\n",
        "\n",
        "  with open(filepath, encoding='utf8') as f:\n",
        "    for line in f:\n",
        "      word, *vector = line.split()\n",
        "      if word in word_index:\n",
        "        idx = word_index[word]\n",
        "        embedding_matrix[idx] = np.array(vector, dtype=np.float32)[:embedding_dim]\n",
        "  \n",
        "  return embedding_matrix\n"
      ],
      "metadata": {
        "id": "AI8EMgC-OS9U"
      },
      "execution_count": 29,
      "outputs": []
    },
    {
      "cell_type": "code",
      "source": [
        "#Assign glove embeddings\n",
        "embedding_dim = 50\n",
        "filepath = '/content/glove.6B.50d.txt'\n",
        "\n",
        "glove_embedding = embedding_function(filepath, tokenizer.word_index, embedding_dim)"
      ],
      "metadata": {
        "id": "GeHxwpAySx18"
      },
      "execution_count": 30,
      "outputs": []
    },
    {
      "cell_type": "code",
      "source": [
        "#Example for word index 1, there is 50 dim\n",
        "print('Example Embedding Vectors\\n')\n",
        "print('--------------------------------\\n')\n",
        "glove_embedding[1]"
      ],
      "metadata": {
        "colab": {
          "base_uri": "https://localhost:8080/"
        },
        "id": "br8ajPYmSxzN",
        "outputId": "46169173-7ab5-4df3-85b7-357fe4aeadcd"
      },
      "execution_count": 31,
      "outputs": [
        {
          "output_type": "stream",
          "name": "stdout",
          "text": [
            "Example Embedding Vectors\n",
            "\n",
            "--------------------------------\n",
            "\n"
          ]
        },
        {
          "output_type": "execute_result",
          "data": {
            "text/plain": [
              "array([ 0.45769   ,  0.85191   ,  0.31097999,  1.34780002, -0.021703  ,\n",
              "       -0.05467   , -0.17405   , -0.71013999, -0.57441002,  0.49786001,\n",
              "       -0.89381999,  0.58661002, -0.77012998,  0.23779   ,  0.37652001,\n",
              "        1.36679995,  0.34667   ,  0.082452  ,  0.17561001,  0.056062  ,\n",
              "        0.50818002,  0.33750999, -0.85170001,  0.034619  , -0.57236999,\n",
              "       -1.15339994, -0.54158998,  0.24327999,  0.018737  , -0.58644998,\n",
              "        0.15261   ,  0.53372002, -0.27601001,  0.065097  ,  0.39680001,\n",
              "       -0.62892002,  0.0046726 ,  0.081347  , -0.32578999, -0.60933   ,\n",
              "       -0.36464   ,  0.17591   ,  0.0050718 ,  1.36059999, -0.78583002,\n",
              "        0.083121  , -0.75184   , -0.74225998,  0.77052999,  0.26394001])"
            ]
          },
          "metadata": {},
          "execution_count": 31
        }
      ]
    },
    {
      "cell_type": "code",
      "source": [
        "#Clear keras backend adn set random seed\n",
        "tf.keras.backend.clear_session()\n",
        "tf.random.set_seed(101)\n",
        "np.random.seed(101)\n",
        "\n",
        "#input and output dimension of ebedding layer\n",
        "input_dim = len(tokenizer.word_index)+1\n",
        "output_dim=50\n",
        "\n",
        "#building the LSTM model\n",
        "#embedding layers has glove embedding pretrained weights, input_length is 1000\n",
        "model = tf.keras.models.Sequential([\n",
        "  tf.keras.layers.Embedding(input_dim=input_dim, output_dim=output_dim, weights=[glove_embedding], input_length=maxlen, trainable=False),\n",
        "  tf.keras.layers.LSTM(units=128, dropout=0.2),\n",
        "  tf.keras.layers.Dense(64, activation='relu'),\n",
        "  tf.keras.layers.Dense(32, activation='relu'),\n",
        "  tf.keras.layers.Dense(1, activation='sigmoid')\n",
        "])\n",
        "\n",
        "#adam optimizer and binarycrossentropy loss function\n",
        "optimizer = tf.keras.optimizers.Adam(learning_rate=0.001)\n",
        "loss = tf.keras.losses.BinaryCrossentropy()\n",
        "\n",
        "#early stopping callbacks to stop training if there is no change with the last N epochs\n",
        "early_stopping = tf.keras.callbacks.EarlyStopping(patience=5)\n",
        "\n",
        "#compile model\n",
        "model.compile(optimizer=optimizer, loss=loss, metrics=['accuracy'])"
      ],
      "metadata": {
        "id": "KCTKJe2aSxwp"
      },
      "execution_count": 32,
      "outputs": []
    },
    {
      "cell_type": "code",
      "source": [
        "#Model Summary\n",
        "model.summary()"
      ],
      "metadata": {
        "colab": {
          "base_uri": "https://localhost:8080/"
        },
        "id": "_gnH7vLuSxty",
        "outputId": "dca50f53-d50f-4f29-c3a9-c08b5050fc44"
      },
      "execution_count": 33,
      "outputs": [
        {
          "output_type": "stream",
          "name": "stdout",
          "text": [
            "Model: \"sequential\"\n",
            "_________________________________________________________________\n",
            " Layer (type)                Output Shape              Param #   \n",
            "=================================================================\n",
            " embedding (Embedding)       (None, 1000, 50)          4530450   \n",
            "                                                                 \n",
            " lstm (LSTM)                 (None, 128)               91648     \n",
            "                                                                 \n",
            " dense (Dense)               (None, 64)                8256      \n",
            "                                                                 \n",
            " dense_1 (Dense)             (None, 32)                2080      \n",
            "                                                                 \n",
            " dense_2 (Dense)             (None, 1)                 33        \n",
            "                                                                 \n",
            "=================================================================\n",
            "Total params: 4,632,467\n",
            "Trainable params: 102,017\n",
            "Non-trainable params: 4,530,450\n",
            "_________________________________________________________________\n"
          ]
        }
      ]
    },
    {
      "cell_type": "code",
      "source": [
        "%%time\n",
        "#Model fitting on x_train and y_train\n",
        "batch_size=256\n",
        "epochs = 10\n",
        "\n",
        "history = model.fit(x_train, y_train, validation_data=(x_test, y_test), epochs=epochs, batch_size=batch_size, callbacks=[early_stopping])"
      ],
      "metadata": {
        "colab": {
          "base_uri": "https://localhost:8080/"
        },
        "id": "hGFtPuk5OS2S",
        "outputId": "4b686876-0929-4b68-e0dd-82dd02345d7d"
      },
      "execution_count": 34,
      "outputs": [
        {
          "output_type": "stream",
          "name": "stdout",
          "text": [
            "Epoch 1/10\n",
            "36/36 [==============================] - 18s 315ms/step - loss: 0.4114 - accuracy: 0.8351 - val_loss: 0.2804 - val_accuracy: 0.8816\n",
            "Epoch 2/10\n",
            "36/36 [==============================] - 11s 297ms/step - loss: 0.2335 - accuracy: 0.9081 - val_loss: 0.2113 - val_accuracy: 0.9190\n",
            "Epoch 3/10\n",
            "36/36 [==============================] - 11s 300ms/step - loss: 0.2362 - accuracy: 0.9082 - val_loss: 0.2618 - val_accuracy: 0.9030\n",
            "Epoch 4/10\n",
            "36/36 [==============================] - 11s 296ms/step - loss: 0.2184 - accuracy: 0.9153 - val_loss: 0.2044 - val_accuracy: 0.9247\n",
            "Epoch 5/10\n",
            "36/36 [==============================] - 11s 302ms/step - loss: 0.1837 - accuracy: 0.9307 - val_loss: 0.1654 - val_accuracy: 0.9373\n",
            "Epoch 6/10\n",
            "36/36 [==============================] - 11s 315ms/step - loss: 0.1752 - accuracy: 0.9351 - val_loss: 0.1699 - val_accuracy: 0.9381\n",
            "Epoch 7/10\n",
            "36/36 [==============================] - 11s 301ms/step - loss: 0.1777 - accuracy: 0.9318 - val_loss: 0.1848 - val_accuracy: 0.9270\n",
            "Epoch 8/10\n",
            "36/36 [==============================] - 11s 298ms/step - loss: 0.1373 - accuracy: 0.9505 - val_loss: 0.1665 - val_accuracy: 0.9237\n",
            "Epoch 9/10\n",
            "36/36 [==============================] - 11s 298ms/step - loss: 0.1413 - accuracy: 0.9433 - val_loss: 0.2135 - val_accuracy: 0.9304\n",
            "Epoch 10/10\n",
            "36/36 [==============================] - 11s 297ms/step - loss: 0.2177 - accuracy: 0.9162 - val_loss: 0.2462 - val_accuracy: 0.9350\n",
            "CPU times: user 1min 15s, sys: 14.4 s, total: 1min 29s\n",
            "Wall time: 1min 55s\n"
          ]
        }
      ]
    },
    {
      "cell_type": "code",
      "source": [
        "#Save Model\n",
        "model.save('model_lstm.h5')"
      ],
      "metadata": {
        "id": "_t7PxhddVEKO"
      },
      "execution_count": 35,
      "outputs": []
    },
    {
      "cell_type": "code",
      "source": [
        "#Print Accuracy and F1 Score\n",
        "\n",
        "#predict on x_test\n",
        "y_pred = model.predict(x_test)\n",
        "y_pred = np.where(y_pred<0.5, 0, 1)\n",
        "\n",
        "f1 = f1_score(y_test, y_pred)\n",
        "accuracy = accuracy_score(y_test, y_pred)\n",
        "\n",
        "print(f\"LSTM Model with GLOVE Embedding F1 SCORE : {f1:.4f}\")\n",
        "print(\"------------------------------------------------------\")\n",
        "print(f\"LSTM Model with GLOVE Embedding ACCURACY SCORE : {accuracy:.4f}\")"
      ],
      "metadata": {
        "id": "ptHRYj8vVEH9",
        "colab": {
          "base_uri": "https://localhost:8080/"
        },
        "outputId": "a43b8105-b5c1-4f77-8494-c9fd5b022bc2"
      },
      "execution_count": 36,
      "outputs": [
        {
          "output_type": "stream",
          "name": "stdout",
          "text": [
            "LSTM Model with GLOVE Embedding F1 SCORE : 0.9316\n",
            "------------------------------------------------------\n",
            "LSTM Model with GLOVE Embedding ACCURACY SCORE : 0.9350\n"
          ]
        }
      ]
    },
    {
      "cell_type": "markdown",
      "source": [
        "#MODEL 2: CNN WITH WORD EMBEDDING FROM SCRATCH\n",
        "**Runtime : 1 min**"
      ],
      "metadata": {
        "id": "MJVLH0bVYZPJ"
      }
    },
    {
      "cell_type": "code",
      "source": [
        "#Split Train and Test test\n",
        "#0.3 Test and 0.7 Train\n",
        "\n",
        "x_train, x_test, y_train, y_test = train_test_split(df['processed_text'], df['class'], test_size=0.3, random_state=111)\n",
        "\n",
        "print(f\"Number of x_train : {len(x_train)}\\n\\nNumber of x_test : {len(x_test)}\")"
      ],
      "metadata": {
        "colab": {
          "base_uri": "https://localhost:8080/"
        },
        "id": "Wnsjco8AVEFR",
        "outputId": "2d365fd4-4201-4848-c1da-4dc7c82379b0"
      },
      "execution_count": 37,
      "outputs": [
        {
          "output_type": "stream",
          "name": "stdout",
          "text": [
            "Number of x_train : 9046\n",
            "\n",
            "Number of x_test : 3878\n"
          ]
        }
      ]
    },
    {
      "cell_type": "code",
      "source": [
        "#Instantiate Tokenizer\n",
        "tokenizer = Tokenizer()\n",
        "tokenizer.fit_on_texts(x_train)\n",
        "\n",
        "#pad sequences post with maxlen=1000\n",
        "#previously we saw that 99% of the data has less than 1000 words\n",
        "\n",
        "maxlen = 1000\n",
        "\n",
        "#create sequences in x_train and pad them with maxlen=1000\n",
        "tokenized_train = tokenizer.texts_to_sequences(x_train)\n",
        "x_train = pad_sequences(tokenized_train, maxlen=maxlen)\n",
        "\n",
        "#create sequences in x_test and pad them with maxlen=1000\n",
        "tokenized_test = tokenizer.texts_to_sequences(x_test)\n",
        "x_test = pad_sequences(tokenized_test, maxlen=maxlen)\n",
        "\n",
        "print(f\"Train Set Shape : {x_train.shape}\")\n",
        "print(\"----------------------------------\")\n",
        "print(f\"Test Set Shape : {x_test.shape}\")"
      ],
      "metadata": {
        "colab": {
          "base_uri": "https://localhost:8080/"
        },
        "id": "yGcXlxmEVECo",
        "outputId": "37bd17d7-3bb1-435a-b5cd-f5b3c14c72f0"
      },
      "execution_count": 38,
      "outputs": [
        {
          "output_type": "stream",
          "name": "stdout",
          "text": [
            "Train Set Shape : (9046, 1000)\n",
            "----------------------------------\n",
            "Test Set Shape : (3878, 1000)\n"
          ]
        }
      ]
    },
    {
      "cell_type": "code",
      "source": [
        "#Clear keras backend adn set random seed\n",
        "tf.keras.backend.clear_session()\n",
        "tf.random.set_seed(101)\n",
        "np.random.seed(101)\n",
        "\n",
        "#Embedding layer with 30 dimension\n",
        "output_dim = 30 \n",
        "input_dim = len(tokenizer.word_index)\n",
        "\n",
        "#Building model with Embedding layers from scratch with 30 dimension\n",
        "#Convolution layer with 128 filters\n",
        "model = tf.keras.Sequential([\n",
        "  tf.keras.layers.Embedding(input_dim=input_dim, output_dim=output_dim, input_length=maxlen),\n",
        "  tf.keras.layers.Conv1D(filters=128, kernel_size=5, padding='valid', activation='relu'),\n",
        "  tf.keras.layers.GlobalAveragePooling1D(),\n",
        "  tf.keras.layers.Dense(64, activation='relu'),\n",
        "  tf.keras.layers.Dense(32, activation='relu'),\n",
        "  tf.keras.layers.Dense(1, activation='sigmoid')\n",
        "])\n",
        "\n",
        "#Adam optimizer with lr=0.001\n",
        "#Loss function binarycrossentropy\n",
        "optimizer = tf.keras.optimizers.Adam(learning_rate=0.001)\n",
        "loss = tf.keras.losses.BinaryCrossentropy()\n",
        "\n",
        "#early stopping callbacks to stop training if there is no change with the last N epochs\n",
        "early_stopping = tf.keras.callbacks.EarlyStopping(patience=5)\n",
        "\n",
        "model.compile(optimizer=optimizer, loss=loss, metrics=['accuracy'])"
      ],
      "metadata": {
        "id": "AtzztuD1VEAI"
      },
      "execution_count": 39,
      "outputs": []
    },
    {
      "cell_type": "code",
      "source": [
        "#Model Summary\n",
        "model.summary()"
      ],
      "metadata": {
        "colab": {
          "base_uri": "https://localhost:8080/"
        },
        "id": "QK-tmyV1cpIe",
        "outputId": "3cf573f5-a35e-4573-c456-4c72a7c0d222"
      },
      "execution_count": 40,
      "outputs": [
        {
          "output_type": "stream",
          "name": "stdout",
          "text": [
            "Model: \"sequential\"\n",
            "_________________________________________________________________\n",
            " Layer (type)                Output Shape              Param #   \n",
            "=================================================================\n",
            " embedding (Embedding)       (None, 1000, 30)          2741160   \n",
            "                                                                 \n",
            " conv1d (Conv1D)             (None, 996, 128)          19328     \n",
            "                                                                 \n",
            " global_average_pooling1d (G  (None, 128)              0         \n",
            " lobalAveragePooling1D)                                          \n",
            "                                                                 \n",
            " dense (Dense)               (None, 64)                8256      \n",
            "                                                                 \n",
            " dense_1 (Dense)             (None, 32)                2080      \n",
            "                                                                 \n",
            " dense_2 (Dense)             (None, 1)                 33        \n",
            "                                                                 \n",
            "=================================================================\n",
            "Total params: 2,770,857\n",
            "Trainable params: 2,770,857\n",
            "Non-trainable params: 0\n",
            "_________________________________________________________________\n"
          ]
        }
      ]
    },
    {
      "cell_type": "code",
      "source": [
        "%%time\n",
        "#Model fitting on x_train and y_train\n",
        "batch_size = 256\n",
        "epochs = 10\n",
        "\n",
        "history = model.fit(x_train, y_train, validation_data=(x_test, y_test), epochs=epochs, batch_size=batch_size, callbacks=[early_stopping])"
      ],
      "metadata": {
        "id": "aof9w6QacpCZ",
        "colab": {
          "base_uri": "https://localhost:8080/"
        },
        "outputId": "d3f061e4-3a7c-45e9-8f5c-4e4525d7be40"
      },
      "execution_count": 41,
      "outputs": [
        {
          "output_type": "stream",
          "name": "stdout",
          "text": [
            "Epoch 1/10\n",
            "36/36 [==============================] - 10s 84ms/step - loss: 0.6908 - accuracy: 0.5318 - val_loss: 0.6769 - val_accuracy: 0.7081\n",
            "Epoch 2/10\n",
            "36/36 [==============================] - 2s 67ms/step - loss: 0.5369 - accuracy: 0.8059 - val_loss: 0.2765 - val_accuracy: 0.9051\n",
            "Epoch 3/10\n",
            "36/36 [==============================] - 2s 67ms/step - loss: 0.1399 - accuracy: 0.9629 - val_loss: 0.0939 - val_accuracy: 0.9729\n",
            "Epoch 4/10\n",
            "36/36 [==============================] - 2s 66ms/step - loss: 0.0454 - accuracy: 0.9881 - val_loss: 0.0663 - val_accuracy: 0.9799\n",
            "Epoch 5/10\n",
            "36/36 [==============================] - 2s 67ms/step - loss: 0.0208 - accuracy: 0.9970 - val_loss: 0.0593 - val_accuracy: 0.9825\n",
            "Epoch 6/10\n",
            "36/36 [==============================] - 2s 67ms/step - loss: 0.0116 - accuracy: 0.9986 - val_loss: 0.0535 - val_accuracy: 0.9840\n",
            "Epoch 7/10\n",
            "36/36 [==============================] - 2s 66ms/step - loss: 0.0050 - accuracy: 0.9994 - val_loss: 0.0567 - val_accuracy: 0.9827\n",
            "Epoch 8/10\n",
            "36/36 [==============================] - 2s 66ms/step - loss: 0.0031 - accuracy: 0.9996 - val_loss: 0.0580 - val_accuracy: 0.9830\n",
            "Epoch 9/10\n",
            "36/36 [==============================] - 2s 66ms/step - loss: 0.0021 - accuracy: 0.9999 - val_loss: 0.0557 - val_accuracy: 0.9843\n",
            "Epoch 10/10\n",
            "36/36 [==============================] - 2s 67ms/step - loss: 0.0014 - accuracy: 0.9999 - val_loss: 0.0578 - val_accuracy: 0.9840\n",
            "CPU times: user 16.2 s, sys: 1.39 s, total: 17.6 s\n",
            "Wall time: 41.8 s\n"
          ]
        }
      ]
    },
    {
      "cell_type": "code",
      "source": [
        "#Save Model\n",
        "model.save('model_cnn.h5')"
      ],
      "metadata": {
        "id": "Ph98Gwkgco-_"
      },
      "execution_count": 42,
      "outputs": []
    },
    {
      "cell_type": "code",
      "source": [
        "#Print Accuracy and F1 Score\n",
        "\n",
        "#predict on x_test\n",
        "y_pred = model.predict(x_test)\n",
        "y_pred = np.where(y_pred<0.5, 0, 1)\n",
        "\n",
        "f1 = f1_score(y_test, y_pred)\n",
        "accuracy = accuracy_score(y_test, y_pred)\n",
        "\n",
        "print(f\"CNN Model with Embedding F1 SCORE : {f1:.4f}\")\n",
        "print(\"----------------------------------------------\")\n",
        "print(f\"CNN Model with Embedding ACCURACY SCORE : {accuracy:.4f}\")"
      ],
      "metadata": {
        "id": "V1dI_oQVc8v_",
        "colab": {
          "base_uri": "https://localhost:8080/"
        },
        "outputId": "d3a3658c-ced6-47e7-8f6e-87bb2aa2b7b8"
      },
      "execution_count": 43,
      "outputs": [
        {
          "output_type": "stream",
          "name": "stdout",
          "text": [
            "CNN Model with Embedding F1 SCORE : 0.9839\n",
            "----------------------------------------------\n",
            "CNN Model with Embedding ACCURACY SCORE : 0.9840\n"
          ]
        }
      ]
    },
    {
      "cell_type": "markdown",
      "source": [
        "#MODEL 3: XGBOOST WITH TF-IDF\n",
        "**Runtime : 2 min**"
      ],
      "metadata": {
        "id": "SQwGavDTdYyq"
      }
    },
    {
      "cell_type": "code",
      "source": [
        "#Instantiate TF IDF vectorizer with 5000 features since for whole features it crashes\n",
        "vectorizer = TfidfVectorizer(max_features=5000)\n",
        "\n",
        "#processed_text is a list of tokens but for xgboostclassifier it should be a string of words\n",
        "tfidf_vector = vectorizer.fit_transform(df['processed_text'].apply(lambda x : \", \".join(x))).toarray()"
      ],
      "metadata": {
        "id": "v9aXfXCkc8kc"
      },
      "execution_count": 44,
      "outputs": []
    },
    {
      "cell_type": "code",
      "source": [
        "#Split Train and Test test\n",
        "#0.3 Test and 0.7 Train\n",
        "\n",
        "x_train, x_test, y_train, y_test = train_test_split(tfidf_vector, df['class'].to_numpy(), test_size=0.3, random_state=121)"
      ],
      "metadata": {
        "id": "zuOfP0lxensR"
      },
      "execution_count": 45,
      "outputs": []
    },
    {
      "cell_type": "code",
      "source": [
        "%%time\n",
        "#Instantiate XGBClassifier with default hyperparameters\n",
        "xgb = XGBClassifier()\n",
        "\n",
        "#Fit Model to train datasets\n",
        "xgb.fit(x_train, y_train)"
      ],
      "metadata": {
        "id": "y0ezA4eNe1pq",
        "colab": {
          "base_uri": "https://localhost:8080/"
        },
        "outputId": "da90be7d-5399-4881-8580-ba6efec79bd9"
      },
      "execution_count": 46,
      "outputs": [
        {
          "output_type": "stream",
          "name": "stdout",
          "text": [
            "CPU times: user 1min 17s, sys: 763 ms, total: 1min 18s\n",
            "Wall time: 1min 18s\n"
          ]
        }
      ]
    },
    {
      "cell_type": "code",
      "source": [
        "#Predicting on test data\n",
        "y_pred = xgb.predict(x_test)"
      ],
      "metadata": {
        "id": "bnRUc_XTadDq"
      },
      "execution_count": 47,
      "outputs": []
    },
    {
      "cell_type": "code",
      "source": [
        "#Save Model\n",
        "xgb.save_model('model_xgb.txt')"
      ],
      "metadata": {
        "id": "IKQ8edzofoxo"
      },
      "execution_count": 48,
      "outputs": []
    },
    {
      "cell_type": "code",
      "source": [
        "#Print Accuracy and F1 Score\n",
        "\n",
        "f1 = f1_score(y_test, y_pred)\n",
        "accuracy = accuracy_score(y_test, y_pred)\n",
        "\n",
        "print(f\"XGB Model with TF-IDF Vectorization F1 SCORE : {f1:.4f}\")\n",
        "print(\"----------------------------------------------------------\")\n",
        "print(f\"XGB Model with TF-IDF Vectorization ACCURACY SCORE : {accuracy:.4f}\")"
      ],
      "metadata": {
        "id": "cgO2T3Fne1mM",
        "colab": {
          "base_uri": "https://localhost:8080/"
        },
        "outputId": "255ed4b6-5467-475d-92e9-598f5532189b"
      },
      "execution_count": 49,
      "outputs": [
        {
          "output_type": "stream",
          "name": "stdout",
          "text": [
            "XGB Model with TF-IDF Vectorization F1 SCORE : 0.9944\n",
            "----------------------------------------------------------\n",
            "XGB Model with TF-IDF Vectorization ACCURACY SCORE : 0.9946\n"
          ]
        }
      ]
    },
    {
      "cell_type": "markdown",
      "source": [
        "#SUMMARY"
      ],
      "metadata": {
        "id": "P5T4B94-Tu_q"
      }
    },
    {
      "cell_type": "markdown",
      "source": [
        "*Dataset*: https://www.kaggle.com/clmentbisaillon/fake-and-real-news-dataset\n",
        "\n",
        "*Download dataset Fake and Real news from the source and upload to colab environment*\n",
        "\n",
        "*Dataset downsampled to 0.3 for performances purposes*\n",
        "\n",
        "*Please run with GPU*\n",
        "\n",
        "*These training times below measured with GPU accelaretor*\n",
        "\n",
        "*If we don't use GPU the training times increase at least 10 times*\n",
        "\n",
        "*Used Google Colab*\n",
        "LSTM MODEL\n",
        "----------\n",
        "*Training time : 3min*\n",
        "\n",
        "*F1 Score : 0.9313*\n",
        "\n",
        "*Accuracy score : 0.9301*\n",
        "\n",
        "*Only one LSTM layer used with 128 filters*\n",
        "\n",
        "*Glove embeddings with 50 dimension*\n",
        "\n",
        "CNN MODEL\n",
        "---------\n",
        "*Training time : 45 seconds*\n",
        "\n",
        "*F1 score : 0.9839*\n",
        "\n",
        "*Accuracy Score : 0.9840*\n",
        "\n",
        "*Only one 1D Convolution layer used with 128 filters*\n",
        "\n",
        "*Embedding layer trained with 30 dimension*\n",
        "\n",
        "XGBOOST MODEL\n",
        "-------------\n",
        "*Training time : 1min 27 seconds*\n",
        "\n",
        "*F1 Score : 0.9944*\n",
        "\n",
        "*Accuracy Score : 0.9946* \n"
      ],
      "metadata": {
        "id": "KBoc0Te7T9wv"
      }
    },
    {
      "cell_type": "markdown",
      "source": [
        "**We use LSTMs for sequential data processing similar to RNNs. The advantage of LSTM that it introduces gates to overcome RNN's Vanishing Gradient Problem. So it can hold the importance of a word in a sequence, without causing the vanishing of the particular weight. However, both RNN and LSTM need to be computed sequentially so it can't be parallelized to improve calculation speed. Also it requires a lot of memory therefore the training time is longer than other models.**"
      ],
      "metadata": {
        "id": "GFE77fjz_8in"
      }
    },
    {
      "cell_type": "markdown",
      "source": [
        "**CNNs are usually used in image processing. Fundamentally what a CNN layer does, it gets the most important features in a given dataset, therefore a 1D CNN can be used in a sequential text data to get the most important words. For classification it performs well than even more complex deep learning models, like RNN, LSTM or GRU. It can also be parallelized since it doesn't need to wait for previous information like in LSTM. That makes CNN more efficient. In our results we can see that it completed training much faster than LSTM also f1 and accuracy score are much higher than LSTM model.**"
      ],
      "metadata": {
        "id": "DFRWUxBGDJMc"
      }
    },
    {
      "cell_type": "markdown",
      "source": [
        "**XGBoost ml lib is very famous at the moment. It is a descision tree based ensemble algorithm that has high performance on any supervised ml tasks. It generally outperforms the deep learning models. In our results, compared to other two deep learning models, XGBoost performed the best with the highest f1 and accuracy score, respectively 0.9944, 0.9946. It took longer than CNN model to train however we didn't do any hyperparameter tuning and it is way less complex to create a XGBoost model, compared to deep learning models.**"
      ],
      "metadata": {
        "id": "SLYUIx-YIDsB"
      }
    },
    {
      "cell_type": "markdown",
      "source": [
        "**As a result, for the given task I would prefer to use XGBoost model since it is less complex to build and it performs much better compared to other two deep learning models.**"
      ],
      "metadata": {
        "id": "tfDPQneBK0FK"
      }
    }
  ]
}